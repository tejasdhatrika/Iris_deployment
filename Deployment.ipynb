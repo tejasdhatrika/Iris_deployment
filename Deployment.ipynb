{
 "cells": [
  {
   "cell_type": "code",
   "execution_count": 6,
   "metadata": {},
   "outputs": [],
   "source": [
    "from sklearn.datasets import load_iris\n",
    "#save data information as variable\n",
    "iris = load_iris()"
   ]
  },
  {
   "cell_type": "code",
   "execution_count": 14,
   "metadata": {},
   "outputs": [
    {
     "data": {
      "text/html": [
       "<div>\n",
       "<style scoped>\n",
       "    .dataframe tbody tr th:only-of-type {\n",
       "        vertical-align: middle;\n",
       "    }\n",
       "\n",
       "    .dataframe tbody tr th {\n",
       "        vertical-align: top;\n",
       "    }\n",
       "\n",
       "    .dataframe thead th {\n",
       "        text-align: right;\n",
       "    }\n",
       "</style>\n",
       "<table border=\"1\" class=\"dataframe\">\n",
       "  <thead>\n",
       "    <tr style=\"text-align: right;\">\n",
       "      <th></th>\n",
       "      <th>sepal length (cm)</th>\n",
       "      <th>sepal width (cm)</th>\n",
       "      <th>petal length (cm)</th>\n",
       "      <th>petal width (cm)</th>\n",
       "      <th>target</th>\n",
       "    </tr>\n",
       "  </thead>\n",
       "  <tbody>\n",
       "    <tr>\n",
       "      <th>0</th>\n",
       "      <td>5.1</td>\n",
       "      <td>3.5</td>\n",
       "      <td>1.4</td>\n",
       "      <td>0.2</td>\n",
       "      <td>0</td>\n",
       "    </tr>\n",
       "    <tr>\n",
       "      <th>1</th>\n",
       "      <td>4.9</td>\n",
       "      <td>3.0</td>\n",
       "      <td>1.4</td>\n",
       "      <td>0.2</td>\n",
       "      <td>0</td>\n",
       "    </tr>\n",
       "    <tr>\n",
       "      <th>2</th>\n",
       "      <td>4.7</td>\n",
       "      <td>3.2</td>\n",
       "      <td>1.3</td>\n",
       "      <td>0.2</td>\n",
       "      <td>0</td>\n",
       "    </tr>\n",
       "    <tr>\n",
       "      <th>3</th>\n",
       "      <td>4.6</td>\n",
       "      <td>3.1</td>\n",
       "      <td>1.5</td>\n",
       "      <td>0.2</td>\n",
       "      <td>0</td>\n",
       "    </tr>\n",
       "    <tr>\n",
       "      <th>4</th>\n",
       "      <td>5.0</td>\n",
       "      <td>3.6</td>\n",
       "      <td>1.4</td>\n",
       "      <td>0.2</td>\n",
       "      <td>0</td>\n",
       "    </tr>\n",
       "  </tbody>\n",
       "</table>\n",
       "</div>"
      ],
      "text/plain": [
       "   sepal length (cm)  sepal width (cm)  petal length (cm)  petal width (cm)  \\\n",
       "0                5.1               3.5                1.4               0.2   \n",
       "1                4.9               3.0                1.4               0.2   \n",
       "2                4.7               3.2                1.3               0.2   \n",
       "3                4.6               3.1                1.5               0.2   \n",
       "4                5.0               3.6                1.4               0.2   \n",
       "\n",
       "   target  \n",
       "0       0  \n",
       "1       0  \n",
       "2       0  \n",
       "3       0  \n",
       "4       0  "
      ]
     },
     "execution_count": 14,
     "metadata": {},
     "output_type": "execute_result"
    }
   ],
   "source": [
    "import pandas as pd\n",
    "#make sure to save the data frame to a variable\n",
    "iris_data = pd.DataFrame(data=iris.data, columns=iris.feature_names)\n",
    "\n",
    "# Add the target variable to the DataFrame\n",
    "iris_data['target'] = iris.target\n",
    "iris_data.head()"
   ]
  },
  {
   "cell_type": "code",
   "execution_count": 16,
   "metadata": {},
   "outputs": [],
   "source": [
    "from sklearn.model_selection import train_test_split\n",
    "train,test= train_test_split(iris_data, test_size=0.2, random_state=42)"
   ]
  },
  {
   "cell_type": "code",
   "execution_count": 17,
   "metadata": {},
   "outputs": [],
   "source": [
    "train.to_csv('train.csv',index=False)\n",
    "test.to_csv('test.csv',index=False)"
   ]
  },
  {
   "cell_type": "code",
   "execution_count": 2,
   "metadata": {},
   "outputs": [
    {
     "name": "stdout",
     "output_type": "stream",
     "text": [
      "Collecting sagemaker\n",
      "  Downloading sagemaker-2.221.1-py3-none-any.whl (1.5 MB)\n",
      "                                              0.0/1.5 MB ? eta -:--:--\n",
      "     ---                                      0.1/1.5 MB 4.2 MB/s eta 0:00:01\n",
      "     ------------                             0.5/1.5 MB 5.8 MB/s eta 0:00:01\n",
      "     -------------------------------          1.1/1.5 MB 9.1 MB/s eta 0:00:01\n",
      "     ---------------------------------------- 1.5/1.5 MB 9.3 MB/s eta 0:00:00\n",
      "Requirement already satisfied: attrs<24,>=23.1.0 in c:\\users\\16479\\anaconda3\\lib\\site-packages (from sagemaker) (23.1.0)\n",
      "Collecting boto3<2.0,>=1.33.3 (from sagemaker)\n",
      "  Downloading boto3-1.34.121-py3-none-any.whl (139 kB)\n",
      "                                              0.0/139.3 kB ? eta -:--:--\n",
      "     -------------------------------------- 139.3/139.3 kB 8.1 MB/s eta 0:00:00\n",
      "Requirement already satisfied: cloudpickle==2.2.1 in c:\\users\\16479\\anaconda3\\lib\\site-packages (from sagemaker) (2.2.1)\n",
      "Requirement already satisfied: google-pasta in c:\\users\\16479\\anaconda3\\lib\\site-packages (from sagemaker) (0.2.0)\n",
      "Requirement already satisfied: numpy<2.0,>=1.9.0 in c:\\users\\16479\\anaconda3\\lib\\site-packages (from sagemaker) (1.24.3)\n",
      "Requirement already satisfied: protobuf<5.0,>=3.12 in c:\\users\\16479\\anaconda3\\lib\\site-packages (from sagemaker) (4.24.0)\n",
      "Collecting smdebug-rulesconfig==1.0.1 (from sagemaker)\n",
      "  Downloading smdebug_rulesconfig-1.0.1-py2.py3-none-any.whl (20 kB)\n",
      "Requirement already satisfied: importlib-metadata<7.0,>=1.4.0 in c:\\users\\16479\\anaconda3\\lib\\site-packages (from sagemaker) (6.0.0)\n",
      "Requirement already satisfied: packaging>=20.0 in c:\\users\\16479\\anaconda3\\lib\\site-packages (from sagemaker) (23.0)\n",
      "Requirement already satisfied: pandas in c:\\users\\16479\\anaconda3\\lib\\site-packages (from sagemaker) (1.5.3)\n",
      "Collecting pathos (from sagemaker)\n",
      "  Downloading pathos-0.3.2-py3-none-any.whl (82 kB)\n",
      "                                              0.0/82.1 kB ? eta -:--:--\n",
      "     ---------------------------------------- 82.1/82.1 kB ? eta 0:00:00\n",
      "Collecting schema (from sagemaker)\n",
      "  Downloading schema-0.7.7-py2.py3-none-any.whl (18 kB)\n",
      "Requirement already satisfied: PyYAML~=6.0 in c:\\users\\16479\\anaconda3\\lib\\site-packages (from sagemaker) (6.0)\n",
      "Requirement already satisfied: jsonschema in c:\\users\\16479\\anaconda3\\lib\\site-packages (from sagemaker) (4.19.2)\n",
      "Requirement already satisfied: platformdirs in c:\\users\\16479\\anaconda3\\lib\\site-packages (from sagemaker) (2.5.2)\n",
      "Requirement already satisfied: tblib<4,>=1.7.0 in c:\\users\\16479\\anaconda3\\lib\\site-packages (from sagemaker) (1.7.0)\n",
      "Requirement already satisfied: urllib3<3.0.0,>=1.26.8 in c:\\users\\16479\\anaconda3\\lib\\site-packages (from sagemaker) (1.26.16)\n",
      "Requirement already satisfied: requests in c:\\users\\16479\\anaconda3\\lib\\site-packages (from sagemaker) (2.31.0)\n",
      "Collecting docker (from sagemaker)\n",
      "  Downloading docker-7.1.0-py3-none-any.whl (147 kB)\n",
      "                                              0.0/147.8 kB ? eta -:--:--\n",
      "     -------------------------------------- 147.8/147.8 kB 8.6 MB/s eta 0:00:00\n",
      "Requirement already satisfied: tqdm in c:\\users\\16479\\anaconda3\\lib\\site-packages (from sagemaker) (4.65.0)\n",
      "Requirement already satisfied: psutil in c:\\users\\16479\\anaconda3\\lib\\site-packages (from sagemaker) (5.9.0)\n",
      "Collecting botocore<1.35.0,>=1.34.121 (from boto3<2.0,>=1.33.3->sagemaker)\n",
      "  Downloading botocore-1.34.121-py3-none-any.whl (12.3 MB)\n",
      "                                              0.0/12.3 MB ? eta -:--:--\n",
      "     ---                                      1.0/12.3 MB 31.4 MB/s eta 0:00:01\n",
      "     --------                                 2.6/12.3 MB 28.0 MB/s eta 0:00:01\n",
      "     ----------------                         4.9/12.3 MB 31.6 MB/s eta 0:00:01\n",
      "     --------------------                     6.2/12.3 MB 30.7 MB/s eta 0:00:01\n",
      "     ------------------------                 7.6/12.3 MB 30.5 MB/s eta 0:00:01\n",
      "     -----------------------------            9.0/12.3 MB 30.3 MB/s eta 0:00:01\n",
      "     ---------------------------------       10.6/12.3 MB 31.2 MB/s eta 0:00:01\n",
      "     --------------------------------------  12.3/12.3 MB 34.4 MB/s eta 0:00:01\n",
      "     --------------------------------------  12.3/12.3 MB 34.4 MB/s eta 0:00:01\n",
      "     --------------------------------------- 12.3/12.3 MB 28.5 MB/s eta 0:00:00\n",
      "Requirement already satisfied: jmespath<2.0.0,>=0.7.1 in c:\\users\\16479\\anaconda3\\lib\\site-packages (from boto3<2.0,>=1.33.3->sagemaker) (0.10.0)\n",
      "Collecting s3transfer<0.11.0,>=0.10.0 (from boto3<2.0,>=1.33.3->sagemaker)\n",
      "  Downloading s3transfer-0.10.1-py3-none-any.whl (82 kB)\n",
      "                                              0.0/82.2 kB ? eta -:--:--\n",
      "     ---------------------------------------- 82.2/82.2 kB 4.8 MB/s eta 0:00:00\n",
      "Requirement already satisfied: zipp>=0.5 in c:\\users\\16479\\anaconda3\\lib\\site-packages (from importlib-metadata<7.0,>=1.4.0->sagemaker) (3.11.0)\n",
      "Requirement already satisfied: pywin32>=304 in c:\\users\\16479\\anaconda3\\lib\\site-packages (from docker->sagemaker) (305.1)\n",
      "Requirement already satisfied: charset-normalizer<4,>=2 in c:\\users\\16479\\anaconda3\\lib\\site-packages (from requests->sagemaker) (2.0.4)\n",
      "Requirement already satisfied: idna<4,>=2.5 in c:\\users\\16479\\anaconda3\\lib\\site-packages (from requests->sagemaker) (3.4)\n",
      "Requirement already satisfied: certifi>=2017.4.17 in c:\\users\\16479\\anaconda3\\lib\\site-packages (from requests->sagemaker) (2024.2.2)\n",
      "Requirement already satisfied: six in c:\\users\\16479\\anaconda3\\lib\\site-packages (from google-pasta->sagemaker) (1.16.0)\n",
      "Requirement already satisfied: jsonschema-specifications>=2023.03.6 in c:\\users\\16479\\anaconda3\\lib\\site-packages (from jsonschema->sagemaker) (2023.7.1)\n",
      "Requirement already satisfied: referencing>=0.28.4 in c:\\users\\16479\\anaconda3\\lib\\site-packages (from jsonschema->sagemaker) (0.30.2)\n",
      "Requirement already satisfied: rpds-py>=0.7.1 in c:\\users\\16479\\anaconda3\\lib\\site-packages (from jsonschema->sagemaker) (0.10.6)\n",
      "Requirement already satisfied: python-dateutil>=2.8.1 in c:\\users\\16479\\anaconda3\\lib\\site-packages (from pandas->sagemaker) (2.8.2)\n",
      "Requirement already satisfied: pytz>=2020.1 in c:\\users\\16479\\anaconda3\\lib\\site-packages (from pandas->sagemaker) (2022.7)\n",
      "Collecting ppft>=1.7.6.8 (from pathos->sagemaker)\n",
      "  Downloading ppft-1.7.6.8-py3-none-any.whl (56 kB)\n",
      "                                              0.0/56.8 kB ? eta -:--:--\n",
      "     ---------------------------------------- 56.8/56.8 kB ? eta 0:00:00\n",
      "Collecting dill>=0.3.8 (from pathos->sagemaker)\n",
      "  Downloading dill-0.3.8-py3-none-any.whl (116 kB)\n",
      "                                              0.0/116.3 kB ? eta -:--:--\n",
      "     ---------------------------------------- 116.3/116.3 kB ? eta 0:00:00\n",
      "Collecting pox>=0.3.4 (from pathos->sagemaker)\n",
      "  Downloading pox-0.3.4-py3-none-any.whl (29 kB)\n",
      "Collecting multiprocess>=0.70.16 (from pathos->sagemaker)\n",
      "  Downloading multiprocess-0.70.16-py311-none-any.whl (143 kB)\n",
      "                                              0.0/143.5 kB ? eta -:--:--\n",
      "     ---------------------------------------- 143.5/143.5 kB ? eta 0:00:00\n",
      "Requirement already satisfied: colorama in c:\\users\\16479\\anaconda3\\lib\\site-packages (from tqdm->sagemaker) (0.4.6)\n",
      "Installing collected packages: schema, smdebug-rulesconfig, ppft, pox, dill, multiprocess, docker, botocore, s3transfer, pathos, boto3, sagemaker\n",
      "  Attempting uninstall: dill\n",
      "    Found existing installation: dill 0.3.6\n",
      "    Uninstalling dill-0.3.6:\n",
      "      Successfully uninstalled dill-0.3.6\n",
      "  Attempting uninstall: botocore\n",
      "    Found existing installation: botocore 1.27.59\n",
      "    Uninstalling botocore-1.27.59:\n",
      "      Successfully uninstalled botocore-1.27.59\n",
      "  Attempting uninstall: s3transfer\n",
      "    Found existing installation: s3transfer 0.6.0\n",
      "    Uninstalling s3transfer-0.6.0:\n",
      "      Successfully uninstalled s3transfer-0.6.0\n",
      "  Attempting uninstall: boto3\n",
      "    Found existing installation: boto3 1.24.28\n",
      "    Uninstalling boto3-1.24.28:\n",
      "      Successfully uninstalled boto3-1.24.28\n",
      "Successfully installed boto3-1.34.121 botocore-1.34.121 dill-0.3.8 docker-7.1.0 multiprocess-0.70.16 pathos-0.3.2 pox-0.3.4 ppft-1.7.6.8 s3transfer-0.10.1 sagemaker-2.221.1 schema-0.7.7 smdebug-rulesconfig-1.0.1\n"
     ]
    },
    {
     "name": "stderr",
     "output_type": "stream",
     "text": [
      "ERROR: pip's dependency resolver does not currently take into account all the packages that are installed. This behaviour is the source of the following dependency conflicts.\n",
      "transformers 2.1.1 requires sentencepiece, which is not installed.\n",
      "aiobotocore 2.4.2 requires botocore<1.27.60,>=1.27.59, but you have botocore 1.34.121 which is incompatible.\n"
     ]
    }
   ],
   "source": [
    "!pip install sagemaker"
   ]
  },
  {
   "cell_type": "code",
   "execution_count": 7,
   "metadata": {},
   "outputs": [
    {
     "name": "stdout",
     "output_type": "stream",
     "text": [
      "Requirement already satisfied: boto3 in c:\\users\\16479\\anaconda3\\lib\\site-packages (1.34.121)\n",
      "Requirement already satisfied: botocore in c:\\users\\16479\\anaconda3\\lib\\site-packages (1.34.121)\n",
      "Requirement already satisfied: jmespath<2.0.0,>=0.7.1 in c:\\users\\16479\\anaconda3\\lib\\site-packages (from boto3) (0.10.0)\n",
      "Requirement already satisfied: s3transfer<0.11.0,>=0.10.0 in c:\\users\\16479\\anaconda3\\lib\\site-packages (from boto3) (0.10.1)\n",
      "Requirement already satisfied: python-dateutil<3.0.0,>=2.1 in c:\\users\\16479\\anaconda3\\lib\\site-packages (from botocore) (2.8.2)\n",
      "Requirement already satisfied: urllib3!=2.2.0,<3,>=1.25.4 in c:\\users\\16479\\anaconda3\\lib\\site-packages (from botocore) (1.26.16)\n",
      "Requirement already satisfied: six>=1.5 in c:\\users\\16479\\anaconda3\\lib\\site-packages (from python-dateutil<3.0.0,>=2.1->botocore) (1.16.0)\n"
     ]
    }
   ],
   "source": [
    "!pip install --upgrade boto3 botocore"
   ]
  },
  {
   "cell_type": "code",
   "execution_count": 1,
   "metadata": {},
   "outputs": [
    {
     "name": "stdout",
     "output_type": "stream",
     "text": [
      "sagemaker.config INFO - Not applying SDK defaults from location: C:\\ProgramData\\sagemaker\\sagemaker\\config.yaml\n",
      "sagemaker.config INFO - Not applying SDK defaults from location: C:\\Users\\16479\\AppData\\Local\\sagemaker\\sagemaker\\config.yaml\n"
     ]
    }
   ],
   "source": [
    "import boto3\n",
    "import sagemaker\n",
    "from sagemaker import get_execution_role\n",
    "from sagemaker.session import Session\n",
    "from sagemaker.inputs import TrainingInput\n",
    "from sagemaker.estimator import Estimator\n",
    "from botocore.config import Config"
   ]
  },
  {
   "cell_type": "code",
   "execution_count": 2,
   "metadata": {},
   "outputs": [],
   "source": [
    "# Set the AWS region\n",
    "region = 'us-east-2'  # Replace with your desired region"
   ]
  },
  {
   "cell_type": "code",
   "execution_count": 3,
   "metadata": {},
   "outputs": [],
   "source": [
    "# Initialize boto3 session and SageMaker session\n",
    "session = boto3.Session(region_name=region)\n",
    "s3_client = session.client('s3', config=Config(region_name=region))\n",
    "sagemaker_session = sagemaker.Session(boto_session=session)"
   ]
  },
  {
   "cell_type": "code",
   "execution_count": 4,
   "metadata": {},
   "outputs": [],
   "source": [
    "# Define S3 bucket and data locations\n",
    "bucket_name = 'sagemaker-studio-211125530280-eyop3jjgekp'  # Replace with your actual bucket name\n",
    "prefix = ''\n",
    "train_data_local_path = 'C:/Users/16479/OneDrive/Desktop/train.csv'\n",
    "test_data_local_path = 'C:/Users/16479/OneDrive/Desktop/test.csv'"
   ]
  },
  {
   "cell_type": "code",
   "execution_count": 5,
   "metadata": {},
   "outputs": [
    {
     "name": "stdout",
     "output_type": "stream",
     "text": [
      "Bucket sagemaker-studio-211125530280-eyop3jjgekp already exists.\n"
     ]
    }
   ],
   "source": [
    "# Create S3 bucket (if it doesn't already exist)\n",
    "try:\n",
    "    s3_client.create_bucket(Bucket=bucket_name, CreateBucketConfiguration={'LocationConstraint': region})\n",
    "    print(f'Bucket {bucket_name} created successfully.')\n",
    "except s3_client.exceptions.BucketAlreadyOwnedByYou:\n",
    "    print(f'Bucket {bucket_name} already exists.')"
   ]
  },
  {
   "cell_type": "code",
   "execution_count": 35,
   "metadata": {},
   "outputs": [],
   "source": [
    "train_path = f's3://{bucket_name}/train.csv'\n",
    "test_path = f's3://{bucket_name}/test.csv'"
   ]
  },
  {
   "cell_type": "code",
   "execution_count": 36,
   "metadata": {},
   "outputs": [
    {
     "name": "stderr",
     "output_type": "stream",
     "text": [
      "INFO:sagemaker.image_uris:Ignoring unnecessary instance type: None.\n"
     ]
    }
   ],
   "source": [
    "from sagemaker.estimator import Estimator\n",
    "\n",
    "# Define the XGBoost container image\n",
    "container = sagemaker.image_uris.retrieve('xgboost', sagemaker_session.boto_region_name, version='latest')"
   ]
  },
  {
   "cell_type": "code",
   "execution_count": 37,
   "metadata": {},
   "outputs": [],
   "source": [
    "sagemaker_session = sagemaker.Session()\n",
    "\n",
    "# Define the IAM role\n",
    "role = 'arn:aws:iam::211125530280:role/SageMakerExecutionRole'"
   ]
  },
  {
   "cell_type": "code",
   "execution_count": 42,
   "metadata": {},
   "outputs": [],
   "source": [
    "xgboost = Estimator(\n",
    "    container,\n",
    "    role,\n",
    "    instance_count=1,\n",
    "    instance_type='ml.m5.large',\n",
    "    output_path=f's3://{bucket_name}/output',\n",
    "    sagemaker_session=sagemaker_session\n",
    ")"
   ]
  },
  {
   "cell_type": "code",
   "execution_count": 43,
   "metadata": {},
   "outputs": [],
   "source": [
    "# Set hyperparameters (adjust as needed)\n",
    "xgboost.set_hyperparameters(\n",
    "    objective='binary:logistic',\n",
    "    num_round=100\n",
    ")"
   ]
  },
  {
   "cell_type": "code",
   "execution_count": 44,
   "metadata": {},
   "outputs": [],
   "source": [
    "# Prepare the data inputs for the training job\n",
    "train_input = TrainingInput(train_path, content_type='csv')\n",
    "test_input = TrainingInput(test_path, content_type='csv')"
   ]
  },
  {
   "cell_type": "code",
   "execution_count": 45,
   "metadata": {},
   "outputs": [
    {
     "name": "stderr",
     "output_type": "stream",
     "text": [
      "INFO:sagemaker:Creating training-job with name: xgboost-2024-06-07-17-59-21-747\n"
     ]
    },
    {
     "name": "stdout",
     "output_type": "stream",
     "text": [
      "2024-06-07 17:59:27 Starting - Starting the training job...\n",
      "2024-06-07 17:59:41 Starting - Preparing the instances for training...\n",
      "2024-06-07 18:00:09 Downloading - Downloading input data...\n",
      "2024-06-07 18:00:49 Downloading - Downloading the training image...\n",
      "2024-06-07 18:01:29 Training - Training image download completed. Training in progress....\n",
      "2024-06-07 18:01:48 Uploading - Uploading generated training model\n",
      "2024-06-07 18:01:48 Failed - Training job failed\n",
      ".."
     ]
    },
    {
     "ename": "UnexpectedStatusException",
     "evalue": "Error for Training job xgboost-2024-06-07-17-59-21-747: Failed. Reason: ClientError: Non-numeric value 's' found in the header line 'sepal length (cm),sepal width (cm),petal length (c...' of file 'train.csv'. CSV format require no header line in it. If header line is already removed, XGBoost does not accept non-numeric value in the data., exit code: 1",
     "output_type": "error",
     "traceback": [
      "\u001b[1;31m---------------------------------------------------------------------------\u001b[0m",
      "\u001b[1;31mUnexpectedStatusException\u001b[0m                 Traceback (most recent call last)",
      "Cell \u001b[1;32mIn[45], line 2\u001b[0m\n\u001b[0;32m      1\u001b[0m \u001b[38;5;66;03m# Start the training job\u001b[39;00m\n\u001b[1;32m----> 2\u001b[0m xgboost\u001b[38;5;241m.\u001b[39mfit({\u001b[38;5;124m'\u001b[39m\u001b[38;5;124mtrain\u001b[39m\u001b[38;5;124m'\u001b[39m: train_input, \u001b[38;5;124m'\u001b[39m\u001b[38;5;124mvalidation\u001b[39m\u001b[38;5;124m'\u001b[39m: test_input})\n",
      "File \u001b[1;32mc:\\Users\\16479\\anaconda3\\Lib\\site-packages\\sagemaker\\workflow\\pipeline_context.py:346\u001b[0m, in \u001b[0;36mrunnable_by_pipeline.<locals>.wrapper\u001b[1;34m(*args, **kwargs)\u001b[0m\n\u001b[0;32m    342\u001b[0m         \u001b[38;5;28;01mreturn\u001b[39;00m context\n\u001b[0;32m    344\u001b[0m     \u001b[38;5;28;01mreturn\u001b[39;00m _StepArguments(retrieve_caller_name(self_instance), run_func, \u001b[38;5;241m*\u001b[39margs, \u001b[38;5;241m*\u001b[39m\u001b[38;5;241m*\u001b[39mkwargs)\n\u001b[1;32m--> 346\u001b[0m \u001b[38;5;28;01mreturn\u001b[39;00m run_func(\u001b[38;5;241m*\u001b[39margs, \u001b[38;5;241m*\u001b[39m\u001b[38;5;241m*\u001b[39mkwargs)\n",
      "File \u001b[1;32mc:\\Users\\16479\\anaconda3\\Lib\\site-packages\\sagemaker\\estimator.py:1346\u001b[0m, in \u001b[0;36mEstimatorBase.fit\u001b[1;34m(self, inputs, wait, logs, job_name, experiment_config)\u001b[0m\n\u001b[0;32m   1344\u001b[0m \u001b[38;5;28mself\u001b[39m\u001b[38;5;241m.\u001b[39mjobs\u001b[38;5;241m.\u001b[39mappend(\u001b[38;5;28mself\u001b[39m\u001b[38;5;241m.\u001b[39mlatest_training_job)\n\u001b[0;32m   1345\u001b[0m \u001b[38;5;28;01mif\u001b[39;00m wait:\n\u001b[1;32m-> 1346\u001b[0m     \u001b[38;5;28mself\u001b[39m\u001b[38;5;241m.\u001b[39mlatest_training_job\u001b[38;5;241m.\u001b[39mwait(logs\u001b[38;5;241m=\u001b[39mlogs)\n",
      "File \u001b[1;32mc:\\Users\\16479\\anaconda3\\Lib\\site-packages\\sagemaker\\estimator.py:2703\u001b[0m, in \u001b[0;36m_TrainingJob.wait\u001b[1;34m(self, logs)\u001b[0m\n\u001b[0;32m   2701\u001b[0m \u001b[38;5;66;03m# If logs are requested, call logs_for_jobs.\u001b[39;00m\n\u001b[0;32m   2702\u001b[0m \u001b[38;5;28;01mif\u001b[39;00m logs \u001b[38;5;241m!=\u001b[39m \u001b[38;5;124m\"\u001b[39m\u001b[38;5;124mNone\u001b[39m\u001b[38;5;124m\"\u001b[39m:\n\u001b[1;32m-> 2703\u001b[0m     \u001b[38;5;28mself\u001b[39m\u001b[38;5;241m.\u001b[39msagemaker_session\u001b[38;5;241m.\u001b[39mlogs_for_job(\u001b[38;5;28mself\u001b[39m\u001b[38;5;241m.\u001b[39mjob_name, wait\u001b[38;5;241m=\u001b[39m\u001b[38;5;28;01mTrue\u001b[39;00m, log_type\u001b[38;5;241m=\u001b[39mlogs)\n\u001b[0;32m   2704\u001b[0m \u001b[38;5;28;01melse\u001b[39;00m:\n\u001b[0;32m   2705\u001b[0m     \u001b[38;5;28mself\u001b[39m\u001b[38;5;241m.\u001b[39msagemaker_session\u001b[38;5;241m.\u001b[39mwait_for_job(\u001b[38;5;28mself\u001b[39m\u001b[38;5;241m.\u001b[39mjob_name)\n",
      "File \u001b[1;32mc:\\Users\\16479\\anaconda3\\Lib\\site-packages\\sagemaker\\session.py:5797\u001b[0m, in \u001b[0;36mSession.logs_for_job\u001b[1;34m(self, job_name, wait, poll, log_type, timeout)\u001b[0m\n\u001b[0;32m   5776\u001b[0m \u001b[38;5;28;01mdef\u001b[39;00m \u001b[38;5;21mlogs_for_job\u001b[39m(\u001b[38;5;28mself\u001b[39m, job_name, wait\u001b[38;5;241m=\u001b[39m\u001b[38;5;28;01mFalse\u001b[39;00m, poll\u001b[38;5;241m=\u001b[39m\u001b[38;5;241m10\u001b[39m, log_type\u001b[38;5;241m=\u001b[39m\u001b[38;5;124m\"\u001b[39m\u001b[38;5;124mAll\u001b[39m\u001b[38;5;124m\"\u001b[39m, timeout\u001b[38;5;241m=\u001b[39m\u001b[38;5;28;01mNone\u001b[39;00m):\n\u001b[0;32m   5777\u001b[0m \u001b[38;5;250m    \u001b[39m\u001b[38;5;124;03m\"\"\"Display logs for a given training job, optionally tailing them until job is complete.\u001b[39;00m\n\u001b[0;32m   5778\u001b[0m \n\u001b[0;32m   5779\u001b[0m \u001b[38;5;124;03m    If the output is a tty or a Jupyter cell, it will be color-coded\u001b[39;00m\n\u001b[1;32m   (...)\u001b[0m\n\u001b[0;32m   5795\u001b[0m \u001b[38;5;124;03m        exceptions.UnexpectedStatusException: If waiting and the training job fails.\u001b[39;00m\n\u001b[0;32m   5796\u001b[0m \u001b[38;5;124;03m    \"\"\"\u001b[39;00m\n\u001b[1;32m-> 5797\u001b[0m     _logs_for_job(\u001b[38;5;28mself\u001b[39m, job_name, wait, poll, log_type, timeout)\n",
      "File \u001b[1;32mc:\\Users\\16479\\anaconda3\\Lib\\site-packages\\sagemaker\\session.py:8026\u001b[0m, in \u001b[0;36m_logs_for_job\u001b[1;34m(sagemaker_session, job_name, wait, poll, log_type, timeout)\u001b[0m\n\u001b[0;32m   8023\u001b[0m             last_profiler_rule_statuses \u001b[38;5;241m=\u001b[39m profiler_rule_statuses\n\u001b[0;32m   8025\u001b[0m \u001b[38;5;28;01mif\u001b[39;00m wait:\n\u001b[1;32m-> 8026\u001b[0m     _check_job_status(job_name, description, \u001b[38;5;124m\"\u001b[39m\u001b[38;5;124mTrainingJobStatus\u001b[39m\u001b[38;5;124m\"\u001b[39m)\n\u001b[0;32m   8027\u001b[0m     \u001b[38;5;28;01mif\u001b[39;00m dot:\n\u001b[0;32m   8028\u001b[0m         \u001b[38;5;28mprint\u001b[39m()\n",
      "File \u001b[1;32mc:\\Users\\16479\\anaconda3\\Lib\\site-packages\\sagemaker\\session.py:8079\u001b[0m, in \u001b[0;36m_check_job_status\u001b[1;34m(job, desc, status_key_name)\u001b[0m\n\u001b[0;32m   8073\u001b[0m \u001b[38;5;28;01mif\u001b[39;00m \u001b[38;5;124m\"\u001b[39m\u001b[38;5;124mCapacityError\u001b[39m\u001b[38;5;124m\"\u001b[39m \u001b[38;5;129;01min\u001b[39;00m \u001b[38;5;28mstr\u001b[39m(reason):\n\u001b[0;32m   8074\u001b[0m     \u001b[38;5;28;01mraise\u001b[39;00m exceptions\u001b[38;5;241m.\u001b[39mCapacityError(\n\u001b[0;32m   8075\u001b[0m         message\u001b[38;5;241m=\u001b[39mmessage,\n\u001b[0;32m   8076\u001b[0m         allowed_statuses\u001b[38;5;241m=\u001b[39m[\u001b[38;5;124m\"\u001b[39m\u001b[38;5;124mCompleted\u001b[39m\u001b[38;5;124m\"\u001b[39m, \u001b[38;5;124m\"\u001b[39m\u001b[38;5;124mStopped\u001b[39m\u001b[38;5;124m\"\u001b[39m],\n\u001b[0;32m   8077\u001b[0m         actual_status\u001b[38;5;241m=\u001b[39mstatus,\n\u001b[0;32m   8078\u001b[0m     )\n\u001b[1;32m-> 8079\u001b[0m \u001b[38;5;28;01mraise\u001b[39;00m exceptions\u001b[38;5;241m.\u001b[39mUnexpectedStatusException(\n\u001b[0;32m   8080\u001b[0m     message\u001b[38;5;241m=\u001b[39mmessage,\n\u001b[0;32m   8081\u001b[0m     allowed_statuses\u001b[38;5;241m=\u001b[39m[\u001b[38;5;124m\"\u001b[39m\u001b[38;5;124mCompleted\u001b[39m\u001b[38;5;124m\"\u001b[39m, \u001b[38;5;124m\"\u001b[39m\u001b[38;5;124mStopped\u001b[39m\u001b[38;5;124m\"\u001b[39m],\n\u001b[0;32m   8082\u001b[0m     actual_status\u001b[38;5;241m=\u001b[39mstatus,\n\u001b[0;32m   8083\u001b[0m )\n",
      "\u001b[1;31mUnexpectedStatusException\u001b[0m: Error for Training job xgboost-2024-06-07-17-59-21-747: Failed. Reason: ClientError: Non-numeric value 's' found in the header line 'sepal length (cm),sepal width (cm),petal length (c...' of file 'train.csv'. CSV format require no header line in it. If header line is already removed, XGBoost does not accept non-numeric value in the data., exit code: 1"
     ]
    }
   ],
   "source": [
    "# Start the training job\n",
    "xgboost.fit({'train': train_input, 'validation': test_input})\n"
   ]
  },
  {
   "cell_type": "code",
   "execution_count": null,
   "metadata": {},
   "outputs": [],
   "source": []
  }
 ],
 "metadata": {
  "kernelspec": {
   "display_name": "base",
   "language": "python",
   "name": "python3"
  },
  "language_info": {
   "codemirror_mode": {
    "name": "ipython",
    "version": 3
   },
   "file_extension": ".py",
   "mimetype": "text/x-python",
   "name": "python",
   "nbconvert_exporter": "python",
   "pygments_lexer": "ipython3",
   "version": "3.11.3"
  }
 },
 "nbformat": 4,
 "nbformat_minor": 2
}
